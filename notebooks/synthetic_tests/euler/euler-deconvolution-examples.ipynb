{
 "metadata": {
  "name": "",
  "signature": "sha256:d29aa2cb3f9fad69c4cd29942a89eecd641ed32e4956b3b0bb8d747b58182634"
 },
 "nbformat": 3,
 "nbformat_minor": 0,
 "worksheets": [
  {
   "cells": [
    {
     "cell_type": "code",
     "collapsed": false,
     "input": [
      "#source1: https://neuronvisio.readthedocs.org/en/latest/gettingstarted.html#troubleshooting\n",
      "#source2: http://ipython.org/ipython-doc/dev/interactive/reference.html#pyqt-and-pyside\n",
      "\n",
      "import sip\n",
      "sip.setapi('QString', 2)\n",
      "sip.setapi('QVariant', 2)"
     ],
     "language": "python",
     "metadata": {},
     "outputs": [],
     "prompt_number": 1
    },
    {
     "cell_type": "markdown",
     "metadata": {},
     "source": [
      "# Euler deconvolution of synthetic magnetic data\n",
      "\n",
      "Euler deconvolution of potential fields is a widely used interpretation technique.\n",
      "This is, in no small part, due to its simplicity and ease of implementation and use.\n",
      "This [IPython notebook](http://ipython.org/notebook.html) will apply standard Euler deconvolution on synthetic total field magnetic anomaly data in an attempt to highlight some common misconceptions in the interpretation of the results.\n",
      "\n",
      "We use the Euler deconvolution implemented in the open-source [Python](http://python.org/) library [Fatiando a Terra](http://fatiando.org/). The library also provides routines for plotting, forward modeling, calculating derivatives through FFT (required for Euler deconvolution) and more.\n"
     ]
    },
    {
     "cell_type": "markdown",
     "metadata": {},
     "source": [
      "Euler deconvolution is based on Euler's homogeneity equation,\n",
      "\n",
      "$$\n",
      "(x_i - x_0)\\dfrac{\\partial f_i}{\\partial x} +                                   \n",
      "(y_i - y_0)\\dfrac{\\partial f_i}{\\partial y} +                                  \n",
      "(z_i - z_0)\\dfrac{\\partial f_i}{\\partial z} =                                  \n",
      "\\eta (b - f_i),\n",
      "$$\n",
      "\n",
      "where $(x_i, y_i, z_i)$ are the coordinates of observation $f_i$ (the total field anomaly),  $(x_0, y_0, z_0)$ is a point on the source (where that point is depends on the nature of the source), $b$ is a constant base level (shift in the data), and $\\eta$ is called the structural index (SI) and is related to the nature of the source.\n",
      "\n",
      "Given the observed total field anomaly $f_i$, its derivatives, and the structural index, we can solve the above equation for the unknown point $(x_0, y_0, z_0)$ and base level $b$. This is implemented as the class `Classic` from the [euler](http://fatiando.readthedocs.org/en/v0.2/api/gravmag.euler.html) module of Fatiando a Terra. \n",
      "\n",
      "However, this is only valid if there is only one source. When there are multiple sources, the most common approach is to select a small window over the data and solve using the observations that fall inside the window. The window is then moved and another solution is found. Thus, we end up with a set of solutions. This is called a *moving window* scheme and is implemented in class `MovingWindow` in the [euler](http://fatiando.readthedocs.org/en/v0.2/api/gravmag.euler.html) module.\n",
      "\n",
      "A drawback of this approach is the sheer number of solutions generated, many of which are spurious. Thus, the solutions have to be filtered so that only consistent solutions are kept. How to best perform this filtering is an active field of research and will not be covered here. The `MovingWindow` class implements a simple filter that keeps only a percentage of the solutions, ranked by the average uncertainty of the estimate. This is an approach similar to that adopted by Beiki and Pedersen (2010).\n",
      "\n",
      "Returning to the subject of the structural index, it is a number that characterizes the decay of the potential field with distance. The structural indexes of some ideal sources (sphere, cylinder, vertical dike, etc) have been calculated (e.g., Reid et al., 1990). However, most, if not all, geologic sources cannot be properly approximated by such ideal sources. There are methods that have been developed to estimate the structural index during Euler deconvolution. However, that is outside the scope of our study and will not be covered here.\n",
      "\n",
      "We will show an application of Euler deconvolution using the moving window scheme on synthetic total field magnetic anomaly data. This application will illustrate how the deconvolution results behave for non-ideal sources. We will use the results obtained to highlight how the output of Euler deconvolution should and, most importantly, should not be interpreted."
     ]
    },
    {
     "cell_type": "markdown",
     "metadata": {},
     "source": [
      "## Loading the data\n",
      "\n",
      "The first step is to load (`import`) the required libraries."
     ]
    },
    {
     "cell_type": "code",
     "collapsed": false,
     "input": [
      "%matplotlib inline\n",
      "import numpy as np\n",
      "import json\n",
      "import cPickle as pickle\n",
      "from IPython.display import Image\n",
      "from fatiando.gravmag.euler import Classic, ExpandingWindow, MovingWindow\n",
      "from fatiando.gravmag import fourier, sphere, polyprism\n",
      "from fatiando.mesher import PolygonalPrism, Sphere\n",
      "from fatiando.vis import mpl, myv\n",
      "from fatiando import utils\n",
      "import fatiando\n",
      "#print(\"Using Fatiando a Terra version {0}\".format((fatiando.version)))\n",
      "mpl.rc('font', size=9)"
     ],
     "language": "python",
     "metadata": {},
     "outputs": [],
     "prompt_number": 2
    },
    {
     "cell_type": "markdown",
     "metadata": {},
     "source": [
      "Now, we load the synthetic data and accompanying metadata using modules [json](http://docs.python.org/2/library/json.html) and [numpy](http://www.numpy.org/)."
     ]
    },
    {
     "cell_type": "code",
     "collapsed": false,
     "input": [
      "x, y, z, tf = np.loadtxt('data/synthetic_data.txt', unpack=True)\n",
      "with open('data/metadata.json') as f:\n",
      "    metadata = json.load(f)\n",
      "    area = metadata['area']\n",
      "    bounds = metadata['bounds']\n",
      "    shape = metadata['shape']\n",
      "    inc = metadata['inc']\n",
      "    dec = metadata['dec']"
     ],
     "language": "python",
     "metadata": {},
     "outputs": [
      {
       "ename": "ValueError",
       "evalue": "could not convert string to float: <!DOCTYPE",
       "output_type": "pyerr",
       "traceback": [
        "\u001b[1;31m---------------------------------------------------------------------------\u001b[0m\n\u001b[1;31mValueError\u001b[0m                                Traceback (most recent call last)",
        "\u001b[1;32m<ipython-input-6-27c6c8d3ede7>\u001b[0m in \u001b[0;36m<module>\u001b[1;34m()\u001b[0m\n\u001b[1;32m----> 1\u001b[1;33m \u001b[0mx\u001b[0m\u001b[1;33m,\u001b[0m \u001b[0my\u001b[0m\u001b[1;33m,\u001b[0m \u001b[0mz\u001b[0m\u001b[1;33m,\u001b[0m \u001b[0mtf\u001b[0m \u001b[1;33m=\u001b[0m \u001b[0mnp\u001b[0m\u001b[1;33m.\u001b[0m\u001b[0mloadtxt\u001b[0m\u001b[1;33m(\u001b[0m\u001b[1;34m'data/synthetic_data.txt'\u001b[0m\u001b[1;33m,\u001b[0m \u001b[0munpack\u001b[0m\u001b[1;33m=\u001b[0m\u001b[0mTrue\u001b[0m\u001b[1;33m)\u001b[0m\u001b[1;33m\u001b[0m\u001b[0m\n\u001b[0m\u001b[0;32m      2\u001b[0m \u001b[1;32mwith\u001b[0m \u001b[0mopen\u001b[0m\u001b[1;33m(\u001b[0m\u001b[1;34m'data/metadata.json'\u001b[0m\u001b[1;33m)\u001b[0m \u001b[1;32mas\u001b[0m \u001b[0mf\u001b[0m\u001b[1;33m:\u001b[0m\u001b[1;33m\u001b[0m\u001b[0m\n\u001b[0;32m      3\u001b[0m     \u001b[0mmetadata\u001b[0m \u001b[1;33m=\u001b[0m \u001b[0mjson\u001b[0m\u001b[1;33m.\u001b[0m\u001b[0mload\u001b[0m\u001b[1;33m(\u001b[0m\u001b[0mf\u001b[0m\u001b[1;33m)\u001b[0m\u001b[1;33m\u001b[0m\u001b[0m\n\u001b[0;32m      4\u001b[0m     \u001b[0marea\u001b[0m \u001b[1;33m=\u001b[0m \u001b[0mmetadata\u001b[0m\u001b[1;33m[\u001b[0m\u001b[1;34m'area'\u001b[0m\u001b[1;33m]\u001b[0m\u001b[1;33m\u001b[0m\u001b[0m\n\u001b[0;32m      5\u001b[0m     \u001b[0mbounds\u001b[0m \u001b[1;33m=\u001b[0m \u001b[0mmetadata\u001b[0m\u001b[1;33m[\u001b[0m\u001b[1;34m'bounds'\u001b[0m\u001b[1;33m]\u001b[0m\u001b[1;33m\u001b[0m\u001b[0m\n",
        "\u001b[1;32mC:\\Anaconda\\lib\\site-packages\\numpy\\lib\\npyio.pyc\u001b[0m in \u001b[0;36mloadtxt\u001b[1;34m(fname, dtype, comments, delimiter, converters, skiprows, usecols, unpack, ndmin)\u001b[0m\n\u001b[0;32m    854\u001b[0m \u001b[1;33m\u001b[0m\u001b[0m\n\u001b[0;32m    855\u001b[0m             \u001b[1;31m# Convert each value according to its column and store\u001b[0m\u001b[1;33m\u001b[0m\u001b[1;33m\u001b[0m\u001b[0m\n\u001b[1;32m--> 856\u001b[1;33m             \u001b[0mitems\u001b[0m \u001b[1;33m=\u001b[0m \u001b[1;33m[\u001b[0m\u001b[0mconv\u001b[0m\u001b[1;33m(\u001b[0m\u001b[0mval\u001b[0m\u001b[1;33m)\u001b[0m \u001b[1;32mfor\u001b[0m \u001b[1;33m(\u001b[0m\u001b[0mconv\u001b[0m\u001b[1;33m,\u001b[0m \u001b[0mval\u001b[0m\u001b[1;33m)\u001b[0m \u001b[1;32min\u001b[0m \u001b[0mzip\u001b[0m\u001b[1;33m(\u001b[0m\u001b[0mconverters\u001b[0m\u001b[1;33m,\u001b[0m \u001b[0mvals\u001b[0m\u001b[1;33m)\u001b[0m\u001b[1;33m]\u001b[0m\u001b[1;33m\u001b[0m\u001b[0m\n\u001b[0m\u001b[0;32m    857\u001b[0m             \u001b[1;31m# Then pack it according to the dtype's nesting\u001b[0m\u001b[1;33m\u001b[0m\u001b[1;33m\u001b[0m\u001b[0m\n\u001b[0;32m    858\u001b[0m             \u001b[0mitems\u001b[0m \u001b[1;33m=\u001b[0m \u001b[0mpack_items\u001b[0m\u001b[1;33m(\u001b[0m\u001b[0mitems\u001b[0m\u001b[1;33m,\u001b[0m \u001b[0mpacking\u001b[0m\u001b[1;33m)\u001b[0m\u001b[1;33m\u001b[0m\u001b[0m\n",
        "\u001b[1;31mValueError\u001b[0m: could not convert string to float: <!DOCTYPE"
       ]
      }
     ],
     "prompt_number": 6
    },
    {
     "cell_type": "code",
     "collapsed": false,
     "input": [
      "metadata"
     ],
     "language": "python",
     "metadata": {},
     "outputs": []
    },
    {
     "cell_type": "markdown",
     "metadata": {},
     "source": [
      "Module [mpl](http://fatiando.readthedocs.org/en/v0.2/api/vis.mpl.html) of Fatiando a Terra interfaces with the 2D plotting library [matplotlib](http://matplotlib.org/). We can use it to generate a filled contour plot of the data. Note that the x coordinates (array `x`) are North-South and y (array `y`) are East-West."
     ]
    },
    {
     "cell_type": "code",
     "collapsed": false,
     "input": [
      "mpl.figure(figsize=(3.33, 2.7))\n",
      "mpl.axis('scaled')\n",
      "mpl.contourf(y, x, tf, shape, 60, cmap=mpl.cm.RdBu_r)\n",
      "mpl.colorbar().set_label('nT')\n",
      "mpl.m2km()\n",
      "mpl.xlabel('East (km)')\n",
      "mpl.ylabel('North (km)')\n",
      "mpl.savefig('fig/data.png', dpi=600)"
     ],
     "language": "python",
     "metadata": {},
     "outputs": []
    },
    {
     "cell_type": "markdown",
     "metadata": {},
     "source": [
      "The polygonal prism model used to generate the data is stored in a Python [pickle](http://docs.python.org/2/library/pickle.html) file."
     ]
    },
    {
     "cell_type": "code",
     "collapsed": false,
     "input": [
      "with open('data/model.pickle') as f:\n",
      "    model = pickle.load(f)\n",
      "    dike, sill, batholith = model"
     ],
     "language": "python",
     "metadata": {},
     "outputs": []
    },
    {
     "cell_type": "markdown",
     "metadata": {},
     "source": [
      "We can use module [myv](http://fatiando.readthedocs.org/en/v0.2/api/vis.myv.html) to interface with 3D plotting library [Mayavi](http://code.enthought.com/projects/mayavi/) and render the model. Notice that the model is composed of 3 different structures: a slightly crooked vertical dike, an irregular sill and a structure resembling an intrusive body, like a batholith."
     ]
    },
    {
     "cell_type": "code",
     "collapsed": false,
     "input": [
      "scene = myv.figure(size=(1000, 600))\n",
      "myv.polyprisms([dike], linewidth=1, color=(0, 0, 1))\n",
      "myv.polyprisms([sill], linewidth=1, color=(0, 1, 0))\n",
      "myv.polyprisms([batholith], linewidth=1, color=(1, 0, 0))\n",
      "ax = myv.axes(myv.outline(bounds), ranges=[b*0.001 for b in bounds], nlabels=3, fmt='%.0f')\n",
      "ax.axes.x_label, ax.axes.y_label, ax.axes.z_label = 'x', 'y', 'z'\n",
      "ax.axes.font_factor = 2\n",
      "myv.wall_north(bounds)\n",
      "myv.wall_bottom(bounds)\n",
      "scene.scene.camera.position = [-37282.427190894407, -35382.676458226633, -36760.719551179718]\n",
      "scene.scene.camera.focal_point = [13286.06353429469, 14199.525065081265, 5611.7451127001987]\n",
      "scene.scene.camera.view_angle = 19.2\n",
      "scene.scene.camera.view_up = [0.37050322249789591, 0.35546774432369316, -0.85812006436401433]\n",
      "scene.scene.camera.clipping_range = [42859.55137481264, 132512.66650687021]\n",
      "scene.scene.camera.compute_view_plane_normal()\n",
      "scene.scene.render()\n",
      "myv.savefig('fig/model.png')\n",
      "myv.show()\n",
      "Image(filename='fig/model.png')"
     ],
     "language": "python",
     "metadata": {},
     "outputs": []
    },
    {
     "cell_type": "markdown",
     "metadata": {},
     "source": [
      "Lets have a look at some of the properties of the model:"
     ]
    },
    {
     "cell_type": "code",
     "collapsed": false,
     "input": [
      "print('Dike:')\n",
      "print(' top (m): {}'.format(dike.z1))\n",
      "print(' bottom (m): {}'.format(dike.z2))\n",
      "print(' magnetization (SI): {}'.format(dike.props['magnetization']))\n",
      "\n",
      "print('Sill:')\n",
      "print(' top (m): {}'.format(sill.z1))\n",
      "print(' bottom (m): {}'.format(sill.z2))\n",
      "print(' magnetization (SI): {}'.format(sill.props['magnetization']))\n",
      "\n",
      "print('Batholith:')\n",
      "print(' top (m): {}'.format(batholith.z1))\n",
      "print(' bottom (m): {}'.format(batholith.z2))\n",
      "print(' magnetization (SI): {}'.format(batholith.props['magnetization']))"
     ],
     "language": "python",
     "metadata": {},
     "outputs": []
    },
    {
     "cell_type": "markdown",
     "metadata": {},
     "source": [
      "## Structural index\n",
      "\n",
      "The structural index (SI) characterizes the nature of the source of the anomaly. It will vary depending on the potential field, hence, the SI for a type of source will not be same for gravity and magnetic fields. SI values have been calculated for ideal sources. After Reid et al. (1990), the SIs for the magnetic case are\n",
      "\n",
      "| Source        | SI  |\n",
      "|---------------|-----|\n",
      "| Dike          |  1  |\n",
      "| Sill          |  1  |\n",
      "| Sphere        |  3  |\n",
      "| Vertical pipe |  2  |\n",
      "\n",
      "We'll assume that the SI values that best represent our model are: 1 for the dike and sill, 3 for the batholith."
     ]
    },
    {
     "cell_type": "markdown",
     "metadata": {},
     "source": [
      "## Calculating derivatives\n",
      "\n",
      "Euler deconvolution requires the derivatives of the total-field anomaly. They could be directly measured (if possible) or calculated numerically. The important thing is that the derivatives need to be calculated/measured at the same observation points $(x_i, y_i, z_i)$ as the data. We will use module [fourier](http://fatiando.readthedocs.org/en/v0.2/api/gravmag.fourier.html) of Fatiando a Terra to calculate derivatives using the FFT. Note that this requires the total field anomaly to be in the Syst\u00e8me International units and on a regular grid. Output derivatives will be in units of T/m."
     ]
    },
    {
     "cell_type": "code",
     "collapsed": false,
     "input": [
      "tf_si = utils.nt2si(tf)\n",
      "xderiv = fourier.derivx(x, y, tf_si, shape)\n",
      "yderiv = fourier.derivy(x, y, tf_si, shape)\n",
      "zderiv = fourier.derivz(x, y, tf_si, shape)"
     ],
     "language": "python",
     "metadata": {},
     "outputs": []
    },
    {
     "cell_type": "code",
     "collapsed": false,
     "input": [
      "mpl.figure(figsize=(10, 4))\n",
      "mpl.subplots_adjust()\n",
      "levels = 30\n",
      "cbargs = dict(orientation='horizontal')\n",
      "\n",
      "ax = mpl.subplot(1, 3, 1)\n",
      "mpl.axis('scaled')\n",
      "mpl.title('x derivative')\n",
      "mpl.contourf(y, x, xderiv, shape, levels, cmap=mpl.cm.RdBu_r)\n",
      "mpl.colorbar(**cbargs).set_label('T/m')\n",
      "mpl.m2km()\n",
      "mpl.xlabel('East (km)')\n",
      "mpl.ylabel('North (km)')\n",
      "\n",
      "ax = mpl.subplot(1, 3, 2)\n",
      "mpl.axis('scaled')\n",
      "mpl.title('y derivative')\n",
      "mpl.contourf(y, x, yderiv, shape, levels, cmap=mpl.cm.RdBu_r)\n",
      "mpl.colorbar(**cbargs).set_label('T/m')\n",
      "mpl.m2km()\n",
      "mpl.xlabel('East (km)')\n",
      "mpl.ylabel('North (km)')\n",
      "\n",
      "ax = mpl.subplot(1, 3, 3)\n",
      "mpl.axis('scaled')\n",
      "mpl.title('z derivative')\n",
      "mpl.contourf(y, x, zderiv, shape, levels, cmap=mpl.cm.RdBu_r)\n",
      "cb = mpl.colorbar(**cbargs).set_label('T/m')\n",
      "mpl.m2km()\n",
      "mpl.xlabel('East (km)')\n",
      "mpl.ylabel('North (km)')"
     ],
     "language": "python",
     "metadata": {},
     "outputs": []
    },
    {
     "cell_type": "markdown",
     "metadata": {},
     "source": [
      "## Euler deconvolution\n",
      "\n",
      "Now we have all that we need to perform an Euler deconvolution with a moving-window scheme. We will use varying structural indexes (SI) and moving window sizes to illustrate the dependence of the results on these parameters."
     ]
    },
    {
     "cell_type": "markdown",
     "metadata": {},
     "source": [
      "First, we'll use a 1 km window and vary the structural index from 1 to 3. We'll store the results in a Python list for later use. The parameter `keep=0.3` tells the moving window scheme to keep only the best 30% of solutions using the criterion of Beiki and Pedersen (2010). Note that we have to pass the total field anomaly and the derivatives in Syst\u00e8me International units."
     ]
    },
    {
     "cell_type": "code",
     "collapsed": false,
     "input": [
      "euler_s1 = [MovingWindow(Classic(x, y, z, tf_si, xderiv, yderiv, zderiv, i), \n",
      "                         windows=(50, 50), size=(1000, 1000), keep=0.3).fit()\n",
      "            for i in [1, 2, 3]]"
     ],
     "language": "python",
     "metadata": {},
     "outputs": []
    },
    {
     "cell_type": "markdown",
     "metadata": {},
     "source": [
      "Now we do the same for a 3 km window."
     ]
    },
    {
     "cell_type": "code",
     "collapsed": false,
     "input": [
      "euler_s3 = [MovingWindow(Classic(x, y, z, tf_si, xderiv, yderiv, zderiv, i), \n",
      "                         windows=(50, 50), size=(3000, 3000), keep=0.3).fit()\n",
      "            for i in [1, 2, 3]]"
     ],
     "language": "python",
     "metadata": {},
     "outputs": []
    },
    {
     "cell_type": "markdown",
     "metadata": {},
     "source": [
      "For the sake of completeness, let's run on a 5 km window as well."
     ]
    },
    {
     "cell_type": "code",
     "collapsed": false,
     "input": [
      "euler_s5 = [MovingWindow(Classic(x, y, z, tf_si, xderiv, yderiv, zderiv, i), \n",
      "                         windows=(50, 50), size=(5000, 5000), keep=0.3).fit()\n",
      "            for i in [1, 2, 3]]"
     ],
     "language": "python",
     "metadata": {},
     "outputs": []
    },
    {
     "cell_type": "markdown",
     "metadata": {},
     "source": [
      "The typical way that deconvolution results are show is using a scatter map with color (or point size) representing the depth (z coordinate). We'll make 6 plots, one for each combination of window size and structural index. While we plot, we'll also filter out unrealistic results that lie above the data."
     ]
    },
    {
     "cell_type": "code",
     "collapsed": false,
     "input": [
      "# Get the maximum value of z that we got from all runs.\n",
      "# We'll use this to set the limits of the color bars\n",
      "maxz = max(p[2] for euler in [euler_s1, euler_s3] for e in euler for p in e.estimate_)\n",
      "labels = ['(a)', '(b)', '(c)', '(d)', '(e)', '(f)']\n",
      "fig = mpl.figure(figsize=(7, 4.8))\n",
      "mpl.subplots_adjust(left=0.06, top=0.98, bottom=0.05, wspace=0, hspace=0.02)\n",
      "for j, euler in enumerate([euler_s1, euler_s3]):\n",
      "    for i, e in enumerate(euler):\n",
      "        xc, yc, zc = e.estimate_.T\n",
      "        xc, yc, zc = xc[zc > 0], yc[zc > 0], zc[zc > 0]\n",
      "        ax = mpl.subplot(2, 3, 3*j + i + 1)\n",
      "        mpl.axis('scaled')\n",
      "        mpl.text(6000, 23000, labels[3*j + i], fontsize=12, fontweight='bold')\n",
      "        mpl.title('SI={0} | Window={1:.0f} km'.format(e.euler.model['structural_index'], e.size[0]*0.001))\n",
      "        #for body in model:\n",
      "        #    mpl.polygon(body, xy2ne=True, style='-b', linewidth=1.5)\n",
      "        plot = mpl.scatter(yc, xc, s=30, c=zc*0.001, cmap=mpl.cm.RdYlGn_r, vmin=0, vmax=maxz*0.001)\n",
      "        mpl.set_area(area)\n",
      "        mpl.m2km()\n",
      "        if i in [1, 2, 4, 5]:\n",
      "            ax.set_yticklabels([])\n",
      "        if j == 1:\n",
      "            mpl.xlabel('East (km)')\n",
      "            ax.set_xticklabels(['{:.0f}'.format(t*0.001) for t in ax.get_xticks()[:-1]])\n",
      "        if j in [0]:\n",
      "            ax.set_xticklabels([])\n",
      "        if i in [0, 3]:\n",
      "            mpl.ylabel('North (km)')\n",
      "fig.colorbar(plot, cax=mpl.axes([0.91, 0.09, 0.03, 0.85]), orientation='vertical').set_label('Depth (km)')\n",
      "mpl.savefig('fig/euler-solutions-low.png')\n",
      "mpl.savefig('fig/euler-solutions.png', dpi=600)"
     ],
     "language": "python",
     "metadata": {},
     "outputs": []
    },
    {
     "cell_type": "code",
     "collapsed": false,
     "input": [
      "# Make the figure for the 5km window separately because it won't go in the tutorial\n",
      "maxz = max(p[2] for euler in [euler_s5] for e in euler for p in e.estimate_)\n",
      "fig = mpl.figure(figsize=(12, 3.5))\n",
      "for i, e in enumerate(euler_s5):\n",
      "        xc, yc, zc = e.estimate_.T\n",
      "        xc, yc, zc = xc[zc > 0], yc[zc > 0], zc[zc > 0]\n",
      "        ax = mpl.subplot(1, 3, i + 1)\n",
      "        mpl.axis('scaled')\n",
      "        mpl.title('SI={0} | Window={1:.0f} km'.format(e.euler.model['structural_index'], e.size[0]*0.001))\n",
      "        plot = mpl.scatter(yc, xc, s=30, c=zc*0.001, cmap=mpl.cm.RdYlGn_r, vmin=0, vmax=maxz*0.001)\n",
      "        mpl.set_area(area)\n",
      "        mpl.m2km()\n",
      "        mpl.xlabel('East (km)')\n",
      "        mpl.ylabel('North (km)')\n",
      "fig.colorbar(plot, cax=mpl.axes([0.91, 0.09, 0.03, 0.85]), orientation='vertical').set_label('Depth (km)')"
     ],
     "language": "python",
     "metadata": {},
     "outputs": []
    },
    {
     "cell_type": "markdown",
     "metadata": {},
     "source": [
      "Notice how changing the window size influences the spread of the solutions and can affect our interpretation. For example, for a 1 km window and structural index 3, we cannot tell apart the sill from the intrusive body. The solutions get even more tangled when using a 5 km window.\n",
      "\n",
      "Varying the structural index will give different depths for the solutions. A general trend is that, the larger the structural index, the deeper the solutions.\n",
      "\n",
      "Most importantly, we call attention to the fact that the Euler deconvolution solutions **do not** represent the three-dimensional shape of the sources. This is even more evident when we view the solutions in 3D along with the original model. For convenience, we'll plot only the solutions for a 3 km window and structural index 3."
     ]
    },
    {
     "cell_type": "code",
     "collapsed": false,
     "input": [
      "scene = myv.figure(size=(1000, 600))\n",
      "myv.polyprisms(model, opacity=0.3, linewidth=2)\n",
      "myv.points([e for e in euler_s3[2].estimate_ if e[2] > 0])\n",
      "ax = myv.axes(myv.outline(bounds), ranges=[b*0.001 for b in bounds], nlabels=3, fmt='%.0f')\n",
      "ax.axes.x_label, ax.axes.y_label, ax.axes.z_label = 'x', 'y', 'z'\n",
      "ax.axes.font_factor = 2\n",
      "myv.wall_north(bounds)\n",
      "myv.wall_bottom(bounds)\n",
      "scene.scene.camera.position = [-10753.852296021096, -59325.007533753123, -22266.66194804628]\n",
      "scene.scene.camera.focal_point = [16722.015964135739, 13784.075401721391, 4529.0411289607291]\n",
      "scene.scene.camera.view_angle = 19.2\n",
      "scene.scene.camera.view_up = [0.12859903242950413, 0.29830909042254711, -0.94576634293543571]\n",
      "scene.scene.camera.clipping_range = [43526.915602369831, 131500.63847030781]\n",
      "scene.scene.camera.compute_view_plane_normal()\n",
      "scene.scene.render()\n",
      "myv.savefig('fig/euler-solutions-3d.png')\n",
      "scene.scene.camera.position = [61783.513706029873, -51534.690503972124, -18750.237814442207]\n",
      "scene.scene.camera.focal_point = [14324.659515610345, 12669.434351699714, 2305.8434486142896]\n",
      "scene.scene.camera.view_angle = 5.033164800000001\n",
      "scene.scene.camera.view_up = [-0.14301336238889156, 0.21138117409951956, -0.96688426267807892]\n",
      "scene.scene.camera.clipping_range = [41498.787075197979, 137750.00692720726]\n",
      "scene.scene.camera.compute_view_plane_normal()\n",
      "scene.scene.render()\n",
      "myv.savefig('fig/euler-solutions-3d-zoom.png')\n",
      "myv.show()\n",
      "Image(filename='fig/euler-solutions-3d.png')"
     ],
     "language": "python",
     "metadata": {},
     "outputs": []
    },
    {
     "cell_type": "code",
     "collapsed": false,
     "input": [
      "Image(filename='fig/euler-solutions-3d-zoom.png')"
     ],
     "language": "python",
     "metadata": {},
     "outputs": []
    },
    {
     "cell_type": "markdown",
     "metadata": {},
     "source": [
      "Notice how the sources for the intrusive body and the sill make arch-like structures that have no relation to the actual forms of the sources. This behaviour is expected and it has been show that Euler deconvolution solutions have a bias that depends on the moving-window scheme and selection criterion (Silva et al., 2001).\n",
      "\n",
      "Now, how much of this spread is due to our model not being properly represented by a sphere? One way to test that is to replace our batholith model with a sphere, forward model new data, and perform the Euler deconvolution on this new data."
     ]
    },
    {
     "cell_type": "markdown",
     "metadata": {},
     "source": [
      "## Solutions for a sphere\n",
      "\n",
      "First, lets create a sphere that resembles our batholith model."
     ]
    },
    {
     "cell_type": "code",
     "collapsed": false,
     "input": [
      "ideal_batholith = Sphere(18000, 12000, 2250, radius=2200, props=batholith.props)\n",
      "ideal_batholith.center = [ideal_batholith.x, ideal_batholith.y, ideal_batholith.z]"
     ],
     "language": "python",
     "metadata": {},
     "outputs": []
    },
    {
     "cell_type": "code",
     "collapsed": false,
     "input": [
      "scene = myv.figure(size=(800, 300))\n",
      "myv.polyprisms([batholith], opacity=0.5, linewidth=2)\n",
      "myv.points([ideal_batholith.center], color=(1, 0, 0), size=ideal_batholith.radius)\n",
      "ax = myv.axes(myv.outline(bounds), ranges=[b*0.001 for b in bounds], nlabels=3, fmt='%.0f')\n",
      "ax.axes.x_label, ax.axes.y_label, ax.axes.z_label = 'x', 'y', 'z'\n",
      "ax.axes.font_factor = 2\n",
      "myv.wall_north(bounds)\n",
      "myv.wall_bottom(bounds)\n",
      "scene.scene.camera.position = [-15337.932586926319, -59396.608310493262, -7022.645217992851]\n",
      "scene.scene.camera.focal_point = [17482.870070805882, 15380.030101355769, 4903.8791935470208]\n",
      "scene.scene.camera.view_angle = 9.830400000000001\n",
      "scene.scene.camera.view_up = [0.064932345527732721, 0.12931668910473115, -0.98947510550961171]\n",
      "scene.scene.camera.clipping_range = [40404.996563304114, 131956.0403000123]\n",
      "scene.scene.camera.compute_view_plane_normal()\n",
      "scene.scene.render()\n",
      "myv.savefig('tmp/sphere-batholith.png')\n",
      "myv.show()\n",
      "Image(filename='tmp/sphere-batholith.png')"
     ],
     "language": "python",
     "metadata": {},
     "outputs": []
    },
    {
     "cell_type": "markdown",
     "metadata": {},
     "source": [
      "Now we can forward model the new total field anomaly data from our model. To make it realistic, lets add 5 nT Gaussian noise (the same that was added to the original data)."
     ]
    },
    {
     "cell_type": "code",
     "collapsed": false,
     "input": [
      "tf_sphere = utils.nt2si(\n",
      "    utils.contaminate(\n",
      "        sphere.tf(x, y, z, [ideal_batholith], inc, dec) + polyprism.tf(x, y, z, [dike, sill], inc, dec),\n",
      "        5))"
     ],
     "language": "python",
     "metadata": {},
     "outputs": []
    },
    {
     "cell_type": "markdown",
     "metadata": {},
     "source": [
      "Plot the two data sets side-by-side for comparison."
     ]
    },
    {
     "cell_type": "code",
     "collapsed": false,
     "input": [
      "mpl.figure(figsize=(10, 3.5))\n",
      "mpl.subplot(1, 2, 1)\n",
      "mpl.title('Polygonal prism')\n",
      "mpl.axis('scaled')\n",
      "mpl.contourf(y, x, tf_si, shape, 60, cmap=mpl.cm.RdBu_r)\n",
      "mpl.colorbar().set_label('T')\n",
      "mpl.m2km()\n",
      "mpl.xlabel('East (km)')\n",
      "mpl.ylabel('North (km)')\n",
      "mpl.subplot(1, 2, 2)\n",
      "mpl.title('Sphere')\n",
      "mpl.axis('scaled')\n",
      "mpl.contourf(y, x, tf_sphere, shape, 60, cmap=mpl.cm.RdBu_r)\n",
      "mpl.colorbar().set_label('T')\n",
      "mpl.m2km()\n",
      "mpl.xlabel('East (km)')\n",
      "mpl.ylabel('North (km)')"
     ],
     "language": "python",
     "metadata": {},
     "outputs": []
    },
    {
     "cell_type": "markdown",
     "metadata": {},
     "source": [
      "It is clear that the data is not exactly the same. The anomaly caused by the sphere is less spread out and its negative lobe has a larger value. However, it is this difference in the anomaly that makes the use of a structural index 3 for the batholith model not very precise.\n",
      "\n",
      "Now we can run the Euler deconvolution on the data set with the sphere and compare the results. We'll only use a 3 km window and structural index 3 (the correct value for a sphere) for simplicity."
     ]
    },
    {
     "cell_type": "code",
     "collapsed": false,
     "input": [
      "xderiv_sphere = fourier.derivx(x, y, tf_sphere, shape)\n",
      "yderiv_sphere = fourier.derivy(x, y, tf_sphere, shape)\n",
      "zderiv_sphere = fourier.derivz(x, y, tf_sphere, shape)"
     ],
     "language": "python",
     "metadata": {},
     "outputs": []
    },
    {
     "cell_type": "code",
     "collapsed": false,
     "input": [
      "euler_sphere = MovingWindow(\n",
      "    Classic(x, y, z, tf_sphere, xderiv_sphere, yderiv_sphere, zderiv_sphere, 3),\n",
      "    windows=(50, 50), size=(3000, 3000), keep=0.3).fit()"
     ],
     "language": "python",
     "metadata": {},
     "outputs": []
    },
    {
     "cell_type": "code",
     "collapsed": false,
     "input": [
      "xc, yc, zc = euler_sphere.estimate_.T\n",
      "xc, yc, zc = xc[zc > 0], yc[zc > 0], zc[zc > 0]\n",
      "\n",
      "fig = mpl.figure()\n",
      "mpl.axis('scaled')\n",
      "plot = mpl.scatter(yc, xc, s=30, c=zc*0.001, cmap=mpl.cm.RdYlGn_r, vmin=0)\n",
      "mpl.colorbar().set_label('Depth (km)')\n",
      "mpl.set_area(area)\n",
      "mpl.m2km()\n",
      "mpl.xlabel('East (km)')\n",
      "mpl.ylabel('North (km)')"
     ],
     "language": "python",
     "metadata": {},
     "outputs": []
    },
    {
     "cell_type": "code",
     "collapsed": false,
     "input": [
      "scene = myv.figure(size=(1000, 600))\n",
      "myv.polyprisms([sill, dike], opacity=0.3, linewidth=2)\n",
      "myv.points([ideal_batholith.center], color=(0, 0, 1), size=ideal_batholith.radius, opacity=0.3)\n",
      "myv.points([e for e in euler_sphere.estimate_ if e[2] > 0])\n",
      "ax = myv.axes(myv.outline(bounds), ranges=[b*0.001 for b in bounds], nlabels=3, fmt='%.0f')\n",
      "ax.axes.x_label, ax.axes.y_label, ax.axes.z_label = 'x', 'y', 'z'\n",
      "ax.axes.font_factor = 2\n",
      "myv.wall_north(bounds)\n",
      "myv.wall_bottom(bounds)\n",
      "scene.scene.camera.position = [-10753.852296021096, -59325.007533753123, -22266.66194804628]\n",
      "scene.scene.camera.focal_point = [16722.015964135739, 13784.075401721391, 4529.0411289607291]\n",
      "scene.scene.camera.view_angle = 19.2\n",
      "scene.scene.camera.view_up = [0.12859903242950413, 0.29830909042254711, -0.94576634293543571]\n",
      "scene.scene.camera.clipping_range = [43526.915602369831, 131500.63847030781]\n",
      "scene.scene.camera.compute_view_plane_normal()\n",
      "scene.scene.render()\n",
      "myv.savefig('tmp/euler-solutions-3d-sphere.png')\n",
      "scene.scene.camera.position = [61783.513706029873, -51534.690503972124, -18750.237814442207]\n",
      "scene.scene.camera.focal_point = [14324.659515610345, 12669.434351699714, 2305.8434486142896]\n",
      "scene.scene.camera.view_angle = 5.033164800000001\n",
      "scene.scene.camera.view_up = [-0.14301336238889156, 0.21138117409951956, -0.96688426267807892]\n",
      "scene.scene.camera.clipping_range = [41498.787075197979, 137750.00692720726]\n",
      "scene.scene.camera.compute_view_plane_normal()\n",
      "scene.scene.render()\n",
      "myv.savefig('tmp/euler-solutions-3d-sphere-zoom.png')\n",
      "myv.show()\n",
      "Image(filename='tmp/euler-solutions-3d-sphere.png')"
     ],
     "language": "python",
     "metadata": {},
     "outputs": []
    },
    {
     "cell_type": "code",
     "collapsed": false,
     "input": [
      "Image(filename='tmp/euler-solutions-3d-sphere-zoom.png')"
     ],
     "language": "python",
     "metadata": {},
     "outputs": []
    },
    {
     "cell_type": "markdown",
     "metadata": {},
     "source": [
      "Even though the solutions are closer together, there is still a spread. Notice that this happens even with an ideal source and correct structural index. What is more, the spread still has no relation with the shape of the source. Rather, it depends on the moving-window scheme and selection criterion used (Silva et al., 2001)."
     ]
    },
    {
     "cell_type": "markdown",
     "metadata": {},
     "source": [
      "## Conclusions\n",
      "\n",
      "The simplicity of Euler deconvolution can mislead the interpreter into thinking that the solutions are unambiguous, unbiased and represent the actual 3D form of the geologic bodies. This is not true. We have shown that the results vary greatly depending on the moving window size and structural index. Furthermore, the filtering criterion and how far the sources stray from ideal ones also influence the spread of the solutions. Thus, Euler solutions can be interpreted, at most, as an approximate location for the anomaly source. In some cases, the solutions may indicate the horizontal outline of the source. \n",
      "\n",
      "The interpretation of a complex geological setting requires a lot of prior information. Details about the source shape can only be obtained by the introduction of harsh constraints to the ill-posed inverse problem. Euler deconvolution does not use such constraints and, thus, it may lead to wrong conclusions about the geologic source. The key concept is that the solutions must not only fit the data, but also make sense in a geological setting, a discretion that is up to the interpreter to make. Method parameters should be tunned to conform to geology, not the other way around.\n",
      "\n",
      "In conclusion, Euler deconvolution is a powerful method for potential field interpretation. However, its results are subject to non-uniqueness and bias, as with any other geophysical inversion, and must be viewed with a critical eye. Euler deconvolution requires little prior information, computational resources, and parameter tuning. Thus, one should not expect to get the same quality of result as one would from a computationally intensive, highly regularized, 3D inversion. In short, \"there is no such thing as a free lunch.\""
     ]
    },
    {
     "cell_type": "markdown",
     "metadata": {},
     "source": [
      "## References\n",
      "\n",
      "Beiki, M., and L. B. Pedersen (2010), Eigenvector analysis of gravity gradient tensor to locate geologic bodies, Geophysics, 75(6), I37\u2013I49, [doi:10.1190/1.3484098](http://dx.doi.org/10.1190/1.3484098).\n",
      "\n",
      "Reid, A. B., J. M. Allsop, H. Granser, A. J. Millett, and I. W. Somerton (1990), Magnetic interpretation in three dimensions using Euler deconvolution, Geophysics, 55(1), 80\u201391, [doi:10.1190/1.1442774](http://dx.doi.org/doi:10.1190/1.1442774).\n",
      "\n",
      "Silva, J. B. C., V. C. F. Barbosa, and W. E. Medeiros (2001), Scattering, symmetry, and bias analysis of source\u2010position estimates in Euler deconvolution and its practical implications, Geophysics, 66(4), 1149\u20131156, doi:10.1190/1.1487062.\n"
     ]
    }
   ],
   "metadata": {}
  }
 ]
}